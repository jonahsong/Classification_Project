{
 "cells": [
  {
   "cell_type": "code",
   "execution_count": 2,
   "metadata": {
    "collapsed": false
   },
   "outputs": [
   ],
   "source": [
    "import pandas as pd\n",
    "import numpy as np\n",
    "from matplotlib import pylab as plt\n",
    "%matplotlib inline\n",
    "from matplotlib.colors import ListedColormap\n",
    "import matplotlib.cm as cm\n",
    "\n",
    "from sklearn.model_selection import train_test_split\n",
    "from sklearn.linear_model import LogisticRegression\n",
    "from sklearn.linear_model import LogisticRegressionCV\n",
    "from sklearn import naive_bayes\n",
    "from sklearn.neighbors import KNeighborsClassifier\n",
    "from sklearn.model_selection import GridSearchCV\n",
    "from sklearn.model_selection import KFold\n",
    "from sklearn import svm\n",
    "from sklearn.ensemble import RandomForestClassifier\n",
    "from sklearn.ensemble import GradientBoostingClassifier\n",
    "\n",
    "from sklearn.tree import DecisionTreeClassifier\n",
    "from sklearn.neural_network import MLPClassifier\n",
    "\n",
    "from sklearn.pipeline import Pipeline\n",
    "from sklearn.preprocessing import StandardScaler\n",
    "from sklearn.pipeline import make_pipeline\n",
    "\n",
    "from sklearn.metrics import accuracy_score, confusion_matrix, classification_report\n",
    "from sklearn.metrics import roc_curve, roc_auc_score, average_precision_score\n",
    "from sklearn.metrics import precision_recall_curve\n",
    "from sklearn.metrics import precision_score, recall_score\n",
    "\n",
    "from itertools import product\n",
    "\n",
    "from sklearn.feature_selection import SelectKBest\n",
    "from sklearn.feature_selection import chi2\n",
    "\n",
    "from scipy.stats import mode"
   ]
  },
  {
   "cell_type": "markdown",
   "metadata": {
    "collapsed": false
   },
   "source": [
    "I pulled and cleaned a comprehensive dataset of colleges from this governmental database:\n",
    "    \n",
    "https://collegescorecard.ed.gov/data/\n",
    "\n",
    "Let's read this dataset in:"
   ]
  },
  {
   "cell_type": "code",
   "execution_count": 3,
   "metadata": {
    "collapsed": false
   },
   "outputs": [
    {
     "name": "stdout",
     "output_type": "stream",
     "text": [
      "(6740, 46)\n"
     ]
    },
    {
     "data": {
      "text/html": [
       "<div>\n",
       "<style scoped>\n",
       "    .dataframe tbody tr th:only-of-type {\n",
       "        vertical-align: middle;\n",
       "    }\n",
       "\n",
       "    .dataframe tbody tr th {\n",
       "        vertical-align: top;\n",
       "    }\n",
       "\n",
       "    .dataframe thead th {\n",
       "        text-align: right;\n",
       "    }\n",
       "</style>\n",
       "<table border=\"1\" class=\"dataframe\">\n",
       "  <thead>\n",
       "    <tr style=\"text-align: right;\">\n",
       "      <th></th>\n",
       "      <th>name</th>\n",
       "      <th>ownership</th>\n",
       "      <th>ope6_id</th>\n",
       "      <th>state</th>\n",
       "      <th>size</th>\n",
       "      <th>accreditor</th>\n",
       "      <th>retention</th>\n",
       "      <th>branches</th>\n",
       "      <th>online_only</th>\n",
       "      <th>religious_affil</th>\n",
       "      <th>...</th>\n",
       "      <th>fafsa_sent</th>\n",
       "      <th>7_yr_repayment_completion</th>\n",
       "      <th>5_year_declining_balance</th>\n",
       "      <th>relig_y_n</th>\n",
       "      <th>accred_y_n</th>\n",
       "      <th>retention_listed_y_n</th>\n",
       "      <th>fac_salary_listed_y_n</th>\n",
       "      <th>7_yr_repayment_completion_y_n</th>\n",
       "      <th>5_year_declining_balance_y_n</th>\n",
       "      <th>for_profit</th>\n",
       "    </tr>\n",
       "  </thead>\n",
       "  <tbody>\n",
       "    <tr>\n",
       "      <td>0</td>\n",
       "      <td>Alaska Bible College</td>\n",
       "      <td>2</td>\n",
       "      <td>8843</td>\n",
       "      <td>AK</td>\n",
       "      <td>27</td>\n",
       "      <td>Association for Bibical Higher Educaiton</td>\n",
       "      <td>0.333300</td>\n",
       "      <td>1</td>\n",
       "      <td>0</td>\n",
       "      <td>88.0</td>\n",
       "      <td>...</td>\n",
       "      <td>0.463652</td>\n",
       "      <td>0.699542</td>\n",
       "      <td>0.496850</td>\n",
       "      <td>1</td>\n",
       "      <td>1</td>\n",
       "      <td>1</td>\n",
       "      <td>1</td>\n",
       "      <td>0</td>\n",
       "      <td>0</td>\n",
       "      <td>0</td>\n",
       "    </tr>\n",
       "    <tr>\n",
       "      <td>1</td>\n",
       "      <td>Alaska Christian College</td>\n",
       "      <td>2</td>\n",
       "      <td>41386</td>\n",
       "      <td>AK</td>\n",
       "      <td>68</td>\n",
       "      <td>Association for Bibical Higher Educaiton</td>\n",
       "      <td>0.473700</td>\n",
       "      <td>1</td>\n",
       "      <td>0</td>\n",
       "      <td>37.0</td>\n",
       "      <td>...</td>\n",
       "      <td>0.463652</td>\n",
       "      <td>0.699542</td>\n",
       "      <td>0.496850</td>\n",
       "      <td>1</td>\n",
       "      <td>1</td>\n",
       "      <td>1</td>\n",
       "      <td>1</td>\n",
       "      <td>0</td>\n",
       "      <td>0</td>\n",
       "      <td>0</td>\n",
       "    </tr>\n",
       "    <tr>\n",
       "      <td>2</td>\n",
       "      <td>Ilisagvik College</td>\n",
       "      <td>1</td>\n",
       "      <td>34613</td>\n",
       "      <td>AK</td>\n",
       "      <td>109</td>\n",
       "      <td>Northwest Commission on Colleges and Universities</td>\n",
       "      <td>0.809500</td>\n",
       "      <td>1</td>\n",
       "      <td>0</td>\n",
       "      <td>-2.0</td>\n",
       "      <td>...</td>\n",
       "      <td>0.463652</td>\n",
       "      <td>0.699542</td>\n",
       "      <td>0.496850</td>\n",
       "      <td>0</td>\n",
       "      <td>1</td>\n",
       "      <td>1</td>\n",
       "      <td>1</td>\n",
       "      <td>0</td>\n",
       "      <td>0</td>\n",
       "      <td>0</td>\n",
       "    </tr>\n",
       "    <tr>\n",
       "      <td>3</td>\n",
       "      <td>Charter College-Anchorage</td>\n",
       "      <td>3</td>\n",
       "      <td>25769</td>\n",
       "      <td>AK</td>\n",
       "      <td>3256</td>\n",
       "      <td>Accrediting Council for Independent Colleges a...</td>\n",
       "      <td>0.703723</td>\n",
       "      <td>1</td>\n",
       "      <td>0</td>\n",
       "      <td>-2.0</td>\n",
       "      <td>...</td>\n",
       "      <td>0.310288</td>\n",
       "      <td>0.725806</td>\n",
       "      <td>0.417949</td>\n",
       "      <td>0</td>\n",
       "      <td>1</td>\n",
       "      <td>0</td>\n",
       "      <td>1</td>\n",
       "      <td>1</td>\n",
       "      <td>1</td>\n",
       "      <td>1</td>\n",
       "    </tr>\n",
       "    <tr>\n",
       "      <td>4</td>\n",
       "      <td>Alaska Career College</td>\n",
       "      <td>3</td>\n",
       "      <td>25410</td>\n",
       "      <td>AK</td>\n",
       "      <td>479</td>\n",
       "      <td>Accrediting Commission of Career Schools and C...</td>\n",
       "      <td>0.794100</td>\n",
       "      <td>1</td>\n",
       "      <td>0</td>\n",
       "      <td>-2.0</td>\n",
       "      <td>...</td>\n",
       "      <td>0.254237</td>\n",
       "      <td>0.556430</td>\n",
       "      <td>0.462520</td>\n",
       "      <td>0</td>\n",
       "      <td>1</td>\n",
       "      <td>1</td>\n",
       "      <td>1</td>\n",
       "      <td>1</td>\n",
       "      <td>1</td>\n",
       "      <td>1</td>\n",
       "    </tr>\n",
       "  </tbody>\n",
       "</table>\n",
       "<p>5 rows × 46 columns</p>\n",
       "</div>"
      ],
      "text/plain": [
       "                        name  ownership  ope6_id state  size  \\\n",
       "0       Alaska Bible College          2     8843    AK    27   \n",
       "1   Alaska Christian College          2    41386    AK    68   \n",
       "2          Ilisagvik College          1    34613    AK   109   \n",
       "3  Charter College-Anchorage          3    25769    AK  3256   \n",
       "4      Alaska Career College          3    25410    AK   479   \n",
       "\n",
       "                                          accreditor  retention  branches  \\\n",
       "0           Association for Bibical Higher Educaiton   0.333300         1   \n",
       "1           Association for Bibical Higher Educaiton   0.473700         1   \n",
       "2  Northwest Commission on Colleges and Universities   0.809500         1   \n",
       "3  Accrediting Council for Independent Colleges a...   0.703723         1   \n",
       "4  Accrediting Commission of Career Schools and C...   0.794100         1   \n",
       "\n",
       "   online_only  religious_affil  ...  fafsa_sent  7_yr_repayment_completion  \\\n",
       "0            0             88.0  ...    0.463652                   0.699542   \n",
       "1            0             37.0  ...    0.463652                   0.699542   \n",
       "2            0             -2.0  ...    0.463652                   0.699542   \n",
       "3            0             -2.0  ...    0.310288                   0.725806   \n",
       "4            0             -2.0  ...    0.254237                   0.556430   \n",
       "\n",
       "   5_year_declining_balance  relig_y_n  accred_y_n  retention_listed_y_n  \\\n",
       "0                  0.496850          1           1                     1   \n",
       "1                  0.496850          1           1                     1   \n",
       "2                  0.496850          0           1                     1   \n",
       "3                  0.417949          0           1                     0   \n",
       "4                  0.462520          0           1                     1   \n",
       "\n",
       "   fac_salary_listed_y_n  7_yr_repayment_completion_y_n  \\\n",
       "0                      1                              0   \n",
       "1                      1                              0   \n",
       "2                      1                              0   \n",
       "3                      1                              1   \n",
       "4                      1                              1   \n",
       "\n",
       "   5_year_declining_balance_y_n  for_profit  \n",
       "0                             0           0  \n",
       "1                             0           0  \n",
       "2                             0           0  \n",
       "3                             1           1  \n",
       "4                             1           1  \n",
       "\n",
       "[5 rows x 46 columns]"
      ]
     },
     "execution_count": 3,
     "metadata": {
     },
     "output_type": "execute_result"
    }
   ],
   "source": [
    "df = pd.read_csv('data/schools.csv', index_col = 0)\n",
    "print(df.shape)\n",
    "df.head()"
   ]
  },
  {
   "cell_type": "markdown",
   "metadata": {
    "collapsed": false
   },
   "source": [
    "We are going to use classification algorithms to try to predict for-profit or non-profit status. \n",
    "\n",
    "Some of the categories aren't applicable to what we want to do so let's consider the following columns only:\n"
   ]
  },
  {
   "cell_type": "code",
   "execution_count": 4,
   "metadata": {
    "collapsed": false
   },
   "outputs": [
    {
     "data": {
      "text/html": [
       "<div>\n",
       "<style scoped>\n",
       "    .dataframe tbody tr th:only-of-type {\n",
       "        vertical-align: middle;\n",
       "    }\n",
       "\n",
       "    .dataframe tbody tr th {\n",
       "        vertical-align: top;\n",
       "    }\n",
       "\n",
       "    .dataframe thead th {\n",
       "        text-align: right;\n",
       "    }\n",
       "</style>\n",
       "<table border=\"1\" class=\"dataframe\">\n",
       "  <thead>\n",
       "    <tr style=\"text-align: right;\">\n",
       "      <th></th>\n",
       "      <th>size</th>\n",
       "      <th>retention</th>\n",
       "      <th>branches</th>\n",
       "      <th>online_only</th>\n",
       "      <th>under_investigation</th>\n",
       "      <th>most_common_degree</th>\n",
       "      <th>highest_degree</th>\n",
       "      <th>faculty_salary</th>\n",
       "      <th>instructional_expenditure_per_fte</th>\n",
       "      <th>tuition_revenue_per_fte</th>\n",
       "      <th>...</th>\n",
       "      <th>fafsa_sent</th>\n",
       "      <th>7_yr_repayment_completion</th>\n",
       "      <th>5_year_declining_balance</th>\n",
       "      <th>relig_y_n</th>\n",
       "      <th>accred_y_n</th>\n",
       "      <th>retention_listed_y_n</th>\n",
       "      <th>fac_salary_listed_y_n</th>\n",
       "      <th>7_yr_repayment_completion_y_n</th>\n",
       "      <th>5_year_declining_balance_y_n</th>\n",
       "      <th>for_profit</th>\n",
       "    </tr>\n",
       "  </thead>\n",
       "  <tbody>\n",
       "    <tr>\n",
       "      <td>0</td>\n",
       "      <td>27</td>\n",
       "      <td>0.333300</td>\n",
       "      <td>1</td>\n",
       "      <td>0</td>\n",
       "      <td>0</td>\n",
       "      <td>3</td>\n",
       "      <td>3</td>\n",
       "      <td>2201</td>\n",
       "      <td>9585</td>\n",
       "      <td>8132</td>\n",
       "      <td>...</td>\n",
       "      <td>0.463652</td>\n",
       "      <td>0.699542</td>\n",
       "      <td>0.496850</td>\n",
       "      <td>1</td>\n",
       "      <td>1</td>\n",
       "      <td>1</td>\n",
       "      <td>1</td>\n",
       "      <td>0</td>\n",
       "      <td>0</td>\n",
       "      <td>0</td>\n",
       "    </tr>\n",
       "    <tr>\n",
       "      <td>1</td>\n",
       "      <td>68</td>\n",
       "      <td>0.473700</td>\n",
       "      <td>1</td>\n",
       "      <td>0</td>\n",
       "      <td>0</td>\n",
       "      <td>1</td>\n",
       "      <td>2</td>\n",
       "      <td>5554</td>\n",
       "      <td>18174</td>\n",
       "      <td>12989</td>\n",
       "      <td>...</td>\n",
       "      <td>0.463652</td>\n",
       "      <td>0.699542</td>\n",
       "      <td>0.496850</td>\n",
       "      <td>1</td>\n",
       "      <td>1</td>\n",
       "      <td>1</td>\n",
       "      <td>1</td>\n",
       "      <td>0</td>\n",
       "      <td>0</td>\n",
       "      <td>0</td>\n",
       "    </tr>\n",
       "    <tr>\n",
       "      <td>2</td>\n",
       "      <td>109</td>\n",
       "      <td>0.809500</td>\n",
       "      <td>1</td>\n",
       "      <td>0</td>\n",
       "      <td>0</td>\n",
       "      <td>1</td>\n",
       "      <td>2</td>\n",
       "      <td>6054</td>\n",
       "      <td>38265</td>\n",
       "      <td>3587</td>\n",
       "      <td>...</td>\n",
       "      <td>0.463652</td>\n",
       "      <td>0.699542</td>\n",
       "      <td>0.496850</td>\n",
       "      <td>0</td>\n",
       "      <td>1</td>\n",
       "      <td>1</td>\n",
       "      <td>1</td>\n",
       "      <td>0</td>\n",
       "      <td>0</td>\n",
       "      <td>0</td>\n",
       "    </tr>\n",
       "    <tr>\n",
       "      <td>3</td>\n",
       "      <td>3256</td>\n",
       "      <td>0.703723</td>\n",
       "      <td>1</td>\n",
       "      <td>0</td>\n",
       "      <td>0</td>\n",
       "      <td>1</td>\n",
       "      <td>3</td>\n",
       "      <td>4004</td>\n",
       "      <td>2617</td>\n",
       "      <td>8755</td>\n",
       "      <td>...</td>\n",
       "      <td>0.310288</td>\n",
       "      <td>0.725806</td>\n",
       "      <td>0.417949</td>\n",
       "      <td>0</td>\n",
       "      <td>1</td>\n",
       "      <td>0</td>\n",
       "      <td>1</td>\n",
       "      <td>1</td>\n",
       "      <td>1</td>\n",
       "      <td>1</td>\n",
       "    </tr>\n",
       "    <tr>\n",
       "      <td>4</td>\n",
       "      <td>479</td>\n",
       "      <td>0.794100</td>\n",
       "      <td>1</td>\n",
       "      <td>0</td>\n",
       "      <td>0</td>\n",
       "      <td>1</td>\n",
       "      <td>2</td>\n",
       "      <td>3861</td>\n",
       "      <td>4178</td>\n",
       "      <td>11905</td>\n",
       "      <td>...</td>\n",
       "      <td>0.254237</td>\n",
       "      <td>0.556430</td>\n",
       "      <td>0.462520</td>\n",
       "      <td>0</td>\n",
       "      <td>1</td>\n",
       "      <td>1</td>\n",
       "      <td>1</td>\n",
       "      <td>1</td>\n",
       "      <td>1</td>\n",
       "      <td>1</td>\n",
       "    </tr>\n",
       "  </tbody>\n",
       "</table>\n",
       "<p>5 rows × 33 columns</p>\n",
       "</div>"
      ],
      "text/plain": [
       "   size  retention  branches  online_only  under_investigation  \\\n",
       "0    27   0.333300         1            0                    0   \n",
       "1    68   0.473700         1            0                    0   \n",
       "2   109   0.809500         1            0                    0   \n",
       "3  3256   0.703723         1            0                    0   \n",
       "4   479   0.794100         1            0                    0   \n",
       "\n",
       "   most_common_degree  highest_degree  faculty_salary  \\\n",
       "0                   3               3            2201   \n",
       "1                   1               2            5554   \n",
       "2                   1               2            6054   \n",
       "3                   1               3            4004   \n",
       "4                   1               2            3861   \n",
       "\n",
       "   instructional_expenditure_per_fte  tuition_revenue_per_fte  ...  \\\n",
       "0                               9585                     8132  ...   \n",
       "1                              18174                    12989  ...   \n",
       "2                              38265                     3587  ...   \n",
       "3                               2617                     8755  ...   \n",
       "4                               4178                    11905  ...   \n",
       "\n",
       "   fafsa_sent  7_yr_repayment_completion  5_year_declining_balance  relig_y_n  \\\n",
       "0    0.463652                   0.699542                  0.496850          1   \n",
       "1    0.463652                   0.699542                  0.496850          1   \n",
       "2    0.463652                   0.699542                  0.496850          0   \n",
       "3    0.310288                   0.725806                  0.417949          0   \n",
       "4    0.254237                   0.556430                  0.462520          0   \n",
       "\n",
       "   accred_y_n  retention_listed_y_n  fac_salary_listed_y_n  \\\n",
       "0           1                     1                      1   \n",
       "1           1                     1                      1   \n",
       "2           1                     1                      1   \n",
       "3           1                     0                      1   \n",
       "4           1                     1                      1   \n",
       "\n",
       "   7_yr_repayment_completion_y_n  5_year_declining_balance_y_n  for_profit  \n",
       "0                              0                             0           0  \n",
       "1                              0                             0           0  \n",
       "2                              0                             0           0  \n",
       "3                              1                             1           1  \n",
       "4                              1                             1           1  \n",
       "\n",
       "[5 rows x 33 columns]"
      ]
     },
     "execution_count": 4,
     "metadata": {
     },
     "output_type": "execute_result"
    }
   ],
   "source": [
    "X = df[['size','retention','branches', 'online_only', 'under_investigation', 'most_common_degree', 'highest_degree',\n",
    "       'faculty_salary', 'instructional_expenditure_per_fte',\n",
    "       'tuition_revenue_per_fte', 'part_time_share',\n",
    "       'age_entry', 'percent_dependent', 'first_generation', 'percent_black',\n",
    "        'avg_family_income','ind_low_income', 'dep_low_income', 'loan_principal',\n",
    "       'federal_loan_rate', 'students_with_any_loans',\n",
    "       'pell_grant_debt', 'percent_pell_grant',\n",
    "       'fafsa_sent', '7_yr_repayment_completion', '5_year_declining_balance',\n",
    "       'relig_y_n', 'accred_y_n', 'retention_listed_y_n',\n",
    "       'fac_salary_listed_y_n', '7_yr_repayment_completion_y_n',\n",
    "       '5_year_declining_balance_y_n', 'for_profit']]\n",
    "X.head()"
   ]
  },
  {
   "cell_type": "markdown",
   "metadata": {
    "collapsed": false
   },
   "source": [
    "Let's first use a method called [SelectKBest](https://scikit-learn.org/stable/modules/generated/sklearn.feature_selection.chi2.html) to see which features have the most statistically significant relationships with profit status. The **lower** the p value, the **more** statistically significant:"
   ]
  },
  {
   "cell_type": "code",
   "execution_count": 5,
   "metadata": {
    "collapsed": false
   },
   "outputs": [
    {
     "name": "stdout",
     "output_type": "stream",
     "text": [
      "chi2-value feature\n"
     ]
    },
    {
     "data": {
      "text/plain": [
       "[(0.0, 'avg_family_income'),\n",
       " (0.0, 'branches'),\n",
       " (0.0, 'faculty_salary'),\n",
       " (0.0, 'instructional_expenditure_per_fte'),\n",
       " (0.0, 'loan_principal'),\n",
       " (0.0, 'pell_grant_debt'),\n",
       " (0.0, 'size'),\n",
       " (0.0, 'tuition_revenue_per_fte'),\n",
       " (5.339096890496358e-283, 'highest_degree'),\n",
       " (2.3550018048916394e-222, 'most_common_degree'),\n",
       " (5.4025502611485345e-149, 'fac_salary_listed_y_n'),\n",
       " (8.240679129762035e-148, 'relig_y_n'),\n",
       " (5.293172158552389e-143, 'age_entry'),\n",
       " (1.4125160311605584e-48, 'percent_dependent'),\n",
       " (1.4293811306586728e-24, '5_year_declining_balance'),\n",
       " (1.3527931483012968e-21, 'federal_loan_rate'),\n",
       " (6.095800240149601e-17, 'percent_black'),\n",
       " (3.249757484509366e-15, 'fafsa_sent'),\n",
       " (2.3099399670297893e-10, '7_yr_repayment_completion'),\n",
       " (5.332261659651424e-09, 'first_generation'),\n",
       " (1.407934457452164e-08, 'part_time_share'),\n",
       " (1.516370320447573e-08, 'dep_low_income'),\n",
       " (5.389960032435474e-08, 'percent_pell_grant'),\n",
       " (2.9423628117768117e-06, 'students_with_any_loans'),\n",
       " (9.035892891499908e-06, 'under_investigation'),\n",
       " (0.006314439338573356, 'retention_listed_y_n'),\n",
       " (0.012536378966747178, 'online_only'),\n",
       " (0.01746153785302242, 'ind_low_income'),\n",
       " (0.5021649291685133, '5_year_declining_balance_y_n'),\n",
       " (0.6158853388832516, 'retention'),\n",
       " (0.8250416943743915, 'accred_y_n'),\n",
       " (0.9230148052834302, '7_yr_repayment_completion_y_n')]"
      ]
     },
     "execution_count": 5,
     "metadata": {
     },
     "output_type": "execute_result"
    }
   ],
   "source": [
    "y = X.pop('for_profit')\n",
    "\n",
    "X_new = SelectKBest(chi2, k=2).fit(X, y)\n",
    "\n",
    "features = []\n",
    "for i, column in enumerate(X.columns):\n",
    "    features.append((X_new.pvalues_[i], column))\n",
    "features.sort()\n",
    "print('chi2-value', 'feature')\n",
    "features"
   ]
  },
  {
   "cell_type": "markdown",
   "metadata": {
    "collapsed": false
   },
   "source": [
    "1.Based on the info above, what was intuitive? What was surprising? How big (or small) of an effect does accredition have on for-profit status? What might be some guesses as to why this is the case?"
   ]
  },
  {
   "cell_type": "markdown",
   "metadata": {
    "collapsed": false
   },
   "source": [
    "For me, it is very intuitive that the online only status has one of the most significant relationships with for-profit status. When I did an internet search for for-profit colleges, the first results were colleges which I know to be online only. A surprising result is how insignificant the relationship between the for-profit status and the federal loan rate. I would expect that non-profit colleges receive benefits in the form of a lower federal loan rate which would then make the federal loan rate be a very significant explanatory variable. However, the federal loan rate appears to be one of the more insignificant variables contributing to the for-profit status. The accreditation has the second largest effect on the for-profit status. I would guess that accreditation is so important because most accredited colleges are non-profits and the council that accredits colleges is comprised of repre"
   ]
  },
  {
   "cell_type": "markdown",
   "metadata": {
    "collapsed": false
   },
   "source": [
    "2.Do a test/train split and give the testing accuracy error for logistic regression."
   ]
  },
  {
   "cell_type": "code",
   "execution_count": 6,
   "metadata": {
    "collapsed": false
   },
   "outputs": [
    {
     "name": "stdout",
     "output_type": "stream",
     "text": [
      "Accuracy: 0.9010880316518298\n"
     ]
    }
   ],
   "source": [
    "X_train, X_test, y_train, y_test = train_test_split(X,y,test_size=0.3)\n",
    "model = LogisticRegression(multi_class = 'auto', solver = 'lbfgs', max_iter = 10000)\n",
    "model.fit(X_train, y_train)\n",
    "y_proba_LR = model.predict_proba(X_test)[:,1]\n",
    "print('Accuracy:',model.score(X_test,y_test))"
   ]
  },
  {
   "cell_type": "markdown",
   "metadata": {
    "collapsed": false
   },
   "source": [
    "3.Find the optimal number of nearest neighbors for KNN using grid search and then give the test accuracy. "
   ]
  },
  {
   "cell_type": "code",
   "execution_count": 7,
   "metadata": {
    "collapsed": false
   },
   "outputs": [
    {
     "name": "stdout",
     "output_type": "stream",
     "text": [
      "{'n_neighbors': 5} KNeighborsClassifier(algorithm='auto', leaf_size=30, metric='minkowski',\n",
      "                     metric_params=None, n_jobs=None, n_neighbors=5, p=2,\n",
      "                     weights='uniform')\n"
     ]
    }
   ],
   "source": [
    "param_grid = {'n_neighbors': range(1, 20)}\n",
    "\n",
    "model = GridSearchCV(KNeighborsClassifier(), \n",
    "                    param_grid, \n",
    "                    cv=3, \n",
    "                    scoring='accuracy')\n",
    "\n",
    "model = model.fit(X_train, y_train)\n",
    "\n",
    "print(model.best_params_, model.best_estimator_)"
   ]
  },
  {
   "cell_type": "markdown",
   "metadata": {
    "collapsed": false
   },
   "source": [
    "Optimal Number of Nearest Neighbors: 5"
   ]
  },
  {
   "cell_type": "code",
   "execution_count": 9,
   "metadata": {
    "collapsed": false
   },
   "outputs": [
    {
     "name": "stdout",
     "output_type": "stream",
     "text": [
      "Accuracy: 0.8961424332344213\n"
     ]
    }
   ],
   "source": [
    "model = model.best_estimator_\n",
    "\n",
    "print('Accuracy:', model.score(X_test, y_test))"
   ]
  },
  {
   "cell_type": "markdown",
   "metadata": {
    "collapsed": false
   },
   "source": [
    "4.Run a classification report and describe in detail what the terms mean in the context of your model."
   ]
  },
  {
   "cell_type": "code",
   "execution_count": 10,
   "metadata": {
    "collapsed": false
   },
   "outputs": [
    {
     "name": "stdout",
     "output_type": "stream",
     "text": [
      "              precision    recall  f1-score   support\n",
      "\n",
      "           0       0.93      0.91      0.92      3835\n",
      "           1       0.88      0.90      0.89      2905\n",
      "\n",
      "    accuracy                           0.91      6740\n",
      "   macro avg       0.90      0.91      0.90      6740\n",
      "weighted avg       0.91      0.91      0.91      6740\n",
      "\n"
     ]
    }
   ],
   "source": [
    "print(classification_report(y, model.predict(X)))"
   ]
  },
  {
   "cell_type": "markdown",
   "metadata": {
    "collapsed": false
   },
   "source": [
    "Precision: \n",
    "In all instances predicted as non-profit, 0.93 of the predictions were correct.\n",
    "In all insances predicted as for-profit, 0.90 of the predictions were correct.\n",
    "\n",
    "Recall:\n",
    "0.92 of all non-profit instances were predicted as non-profit.\n",
    "0.91 of a for-profit instances were predicted as for-profit.\n",
    "\n",
    "Support:\n",
    "There were 3835 cases of non-profit.\n",
    "There were 2905 cases of for-profit.\n",
    "\n",
    "Average:\n",
    "For all of the data, 0.92 of the predictions were correct.\n",
    "\n"
   ]
  },
  {
   "cell_type": "markdown",
   "metadata": {
    "collapsed": false
   },
   "source": [
    "5.Print a confusion matrix and describe what it means in your context."
   ]
  },
  {
   "cell_type": "code",
   "execution_count": 11,
   "metadata": {
    "collapsed": false
   },
   "outputs": [
    {
     "name": "stdout",
     "output_type": "stream",
     "text": [
      "[[1029  118]\n",
      " [  92  783]]\n"
     ]
    }
   ],
   "source": [
    "print(confusion_matrix(y_test, model.predict(X_test)))"
   ]
  },
  {
   "cell_type": "markdown",
   "metadata": {
    "collapsed": false
   },
   "source": [
    "108 of the non-profits were predicted incorrectly while 94 of the for-profits were predicted incorrectly."
   ]
  },
  {
   "cell_type": "markdown",
   "metadata": {
    "collapsed": false
   },
   "source": [
    "6.Make a comparative ROC plot of the naive bayes, logistic, gradient boosting, and KNN classifiers."
   ]
  },
  {
   "cell_type": "code",
   "execution_count": 12,
   "metadata": {
    "collapsed": false
   },
   "outputs": [
    {
     "data": {
      "image/png": "[encoded data removed]",
      "text/plain": [
       "<Figure size 432x288 with 1 Axes>"
      ]
     },
     "execution_count": 12,
     "metadata": {
      "image/png": {
       "height": 277,
       "width": 385
      }
     },
     "output_type": "execute_result"
    }
   ],
   "source": [
    "def plot_roc(ytrue, yproba, model, title='ROC'):\n",
    "    auc = roc_auc_score(ytrue, yproba)\n",
    "    fpr, tpr, thr = roc_curve(ytrue, yproba)\n",
    "    plt.plot([0, 1], [0, 1], color='k', linestyle='--', linewidth=.4)\n",
    "    plt.plot(fpr, tpr, label='{} auc={:.2f}%'.format(model, auc*100))\n",
    "    plt.axis('equal')\n",
    "    plt.xlim([-.02, 1.02])\n",
    "    plt.ylim([-.02, 1.02])\n",
    "    plt.ylabel('tpr')\n",
    "    plt.xlabel('fpr')\n",
    "    plt.title(title)\n",
    "    plt.legend(loc='best')\n",
    "    plt.grid(True)\n",
    "y_proba_LR = model.predict_proba(X_test)[:, 1]\n",
    "model = naive_bayes.GaussianNB()\n",
    "model.fit(X_train, y_train)\n",
    "y_proba_NB = model.predict_proba(X_test)[:, 1]\n",
    "model = GradientBoostingClassifier()\n",
    "model.fit(X_train, y_train)\n",
    "y_proba_GB = model.predict_proba(X_test)[:, 1]\n",
    "model = KNeighborsClassifier(n_neighbors=3)\n",
    "model.fit(X_train, y_train)\n",
    "y_proba_KNN = model.predict_proba(X_test)[:, 1]\n",
    "plot_roc(y_test, y_proba_NB, \"NB\")\n",
    "plot_roc(y_test, y_proba_GB, \"GB\")\n",
    "plot_roc(y_test, y_proba_LR, \"LR\")\n",
    "plot_roc(y_test, y_proba_KNN,\"KNN\")\n"
   ]
  },
  {
   "cell_type": "markdown",
   "metadata": {
    "collapsed": true
   },
   "source": [
    "7.Using the logarithmic regression model, plot a decision boundary between instructional_expenditure_per_fte and 5_year_declining_balance. Does it appear that for-profit status has a clear boundary based on these predictors?"
   ]
  },
  {
   "cell_type": "code",
   "execution_count": 13,
   "metadata": {
    "collapsed": false
   },
   "outputs": [
    {
     "data": {
      "text/plain": [
       "(-2.941558886777559, 3.1784411132224464)"
      ]
     },
     "execution_count": 13,
     "metadata": {
     },
     "output_type": "execute_result"
    },
    {
     "data": {
      "image/png": "[encoded data removed]",
      "text/plain": [
       "<Figure size 288x216 with 1 Axes>"
      ]
     },
     "execution_count": 13,
     "metadata": {
      "image/png": {
       "height": 222,
       "width": 272
      }
     },
     "output_type": "execute_result"
    }
   ],
   "source": [
    "X = df[['instructional_expenditure_per_fte','5_year_declining_balance']]\n",
    "X_scaler = StandardScaler()\n",
    "X = X_scaler.fit_transform(X)\n",
    "X = pd.DataFrame(X)\n",
    "Q = X.values\n",
    "h = .02  \n",
    "x_min, x_max = Q[:, 0].min() - .5, Q[:, 0].max() + .5 \n",
    "y_min, y_max = Q[:, 1].min() - .5, Q[:, 1].max() + .5\n",
    "xx, yy = np.meshgrid(np.arange(x_min, x_max, h), np.arange(y_min, y_max, h))\n",
    "model.fit(X.iloc[:,:2], y)\n",
    "Z = model.predict(np.c_[xx.ravel(), yy.ravel()])\n",
    "Z = Z.reshape(xx.shape)\n",
    "plt.figure(1, figsize=(4, 3))\n",
    "plt.pcolormesh(xx, yy, Z, cmap=plt.cm.Paired)\n",
    "plt.scatter(Q[:, 0], Q[:, 1], c=y, edgecolors='k', cmap=plt.cm.Paired)\n",
    "plt.title('Decision Boundaries (2 Attributes)')\n",
    "plt.xlabel('Instructional Expenditure')\n",
    "plt.ylabel('Declining Balance')\n",
    "\n",
    "plt.xlim(xx.min(), xx.max())\n",
    "plt.ylim(yy.min(), yy.max())"
   ]
  },
  {
   "cell_type": "markdown",
   "metadata": {
    "collapsed": false
   },
   "source": [
    "There seems to be a pretty defined boundary for these predictors."
   ]
  },
  {
   "cell_type": "markdown",
   "metadata": {
    "collapsed": false,
    "scrolled": true
   },
   "source": [
    "8.We have not covered random forests but they are a very popular type of classifier. It is very good practice in reading the docs to get a new classifier working. Read [this](https://scikit-learn.org/stable/modules/generated/sklearn.ensemble.RandomForestClassifier.html) and then apply the RandomForestClassifier()."
   ]
  },
  {
   "cell_type": "code",
   "execution_count": 14,
   "metadata": {
    "collapsed": false
   },
   "outputs": [
    {
     "name": "stderr",
     "output_type": "stream",
     "text": [
      "/usr/local/lib/python3.6/dist-packages/sklearn/ensemble/forest.py:245: FutureWarning: The default value of n_estimators will change from 10 in version 0.20 to 100 in 0.22.\n",
      "  \"10 in version 0.20 to 100 in 0.22.\", FutureWarning)\n"
     ]
    }
   ],
   "source": [
    "from sklearn.ensemble import RandomForestClassifier\n",
    "model = RandomForestClassifier()\n",
    "model.fit(X_train, y_train)\n",
    "y_proba_Forest = model.predict_proba(X_test)[:,1]"
   ]
  },
  {
   "cell_type": "markdown",
   "metadata": {
    "collapsed": false
   },
   "source": [
    "9.Support vector machines are another type of classifier. Read the docs [here](https://scikit-learn.org/stable/modules/generated/sklearn.svm.SVC.html) and then try implementing that one."
   ]
  },
  {
   "cell_type": "code",
   "execution_count": 15,
   "metadata": {
    "collapsed": false
   },
   "outputs": [
    {
     "name": "stderr",
     "output_type": "stream",
     "text": [
      "/usr/local/lib/python3.6/dist-packages/sklearn/svm/base.py:193: FutureWarning: The default value of gamma will change from 'auto' to 'scale' in version 0.22 to account better for unscaled features. Set gamma explicitly to 'auto' or 'scale' to avoid this warning.\n",
      "  \"avoid this warning.\", FutureWarning)\n"
     ]
    },
    {
     "name": "stdout",
     "output_type": "stream",
     "text": [
      "0.7763883001271725\n"
     ]
    }
   ],
   "source": [
    "X_train, X_test, y_train, y_test = train_test_split(X, y, shuffle=True, test_size=0.7)\n",
    "model = svm.SVC(probability=True)\n",
    "model.fit(X_train, y_train)\n",
    "print(model.score(X_test, y_test))\n",
    "y_proba_SVM = model.predict_proba(X_test)[:, 1]"
   ]
  },
  {
   "cell_type": "markdown",
   "metadata": {
    "collapsed": false
   },
   "source": [
    "10. Make a comparative ROC plot of the naive bayes, logistic, gradient boosting, KNN classifiers, random forest, and SVM classifiers."
   ]
  },
  {
   "cell_type": "code",
   "execution_count": 16,
   "metadata": {
    "collapsed": false
   },
   "outputs": [
    {
     "name": "stderr",
     "output_type": "stream",
     "text": [
      "/usr/local/lib/python3.6/dist-packages/sklearn/ensemble/forest.py:245: FutureWarning: The default value of n_estimators will change from 10 in version 0.20 to 100 in 0.22.\n",
      "  \"10 in version 0.20 to 100 in 0.22.\", FutureWarning)\n",
      "/usr/local/lib/python3.6/dist-packages/sklearn/svm/base.py:193: FutureWarning: The default value of gamma will change from 'auto' to 'scale' in version 0.22 to account better for unscaled features. Set gamma explicitly to 'auto' or 'scale' to avoid this warning.\n",
      "  \"avoid this warning.\", FutureWarning)\n"
     ]
    }
   ],
   "source": [
    "def plot_roc(ytrue, yproba, model, title='ROC'):\n",
    "    auc = roc_auc_score(ytrue, yproba)\n",
    "    fpr, tpr, thr = roc_curve(ytrue, yproba)\n",
    "    plt.plot([0, 1], [0, 1], color='k', linestyle='--', linewidth=.4)\n",
    "    plt.plot(fpr, tpr, label='{} auc={:.2f}%'.format(model, auc*100))\n",
    "    plt.axis('equal')\n",
    "    plt.xlim([-.02, 1.02])\n",
    "    plt.ylim([-.02, 1.02])\n",
    "    plt.ylabel('tpr')\n",
    "    plt.xlabel('fpr')\n",
    "    plt.title(title)\n",
    "    plt.legend(loc='best')\n",
    "    plt.grid(True)\n",
    "y_proba_LR = model.predict_proba(X_test)[:, 1]\n",
    "model = naive_bayes.GaussianNB()\n",
    "model.fit(X_train, y_train)\n",
    "y_proba_NB = model.predict_proba(X_test)[:, 1]\n",
    "model = GradientBoostingClassifier()\n",
    "model.fit(X_train, y_train)\n",
    "y_proba_GB = model.predict_proba(X_test)[:, 1]\n",
    "model = KNeighborsClassifier(n_neighbors=3)\n",
    "model.fit(X_train, y_train)\n",
    "y_proba_KNN = model.predict_proba(X_test)[:, 1]\n",
    "model = RandomForestClassifier()\n",
    "model.fit(X_train, y_train)\n",
    "y_proba_Forest = model.predict_proba(X_test)[:,1]\n",
    "model = svm.SVC(probability=True)\n",
    "model.fit(X_train, y_train)\n",
    "y_proba_SVM = model.predict_proba(X_test)[:, 1]\n",
    "plot_roc(y_test, y_proba_NB, \"NB\")\n",
    "plot_roc(y_test, y_proba_GB, \"GB\")\n",
    "plot_roc(y_test, y_proba_LR, \"LR\")\n",
    "plot_roc(y_test, y_proba_KNN,\"KNN\")\n",
    "plot_roc(y_test, y_proba_Forest,\"FC\")\n",
    "plot_roc(y_test, y_proba_SVM,\"SVM\")"
   ]
  },
  {
   "cell_type": "markdown",
   "metadata": {
    "collapsed": false
   },
   "source": [
    "11.Take in a new school's data and predict the school's profit status using one of your previous classifier methods."
   ]
  },
  {
   "cell_type": "code",
   "execution_count": 0,
   "metadata": {
    "collapsed": false
   },
   "outputs": [
   ],
   "source": [
    "model = GradientBoostingClassifier()\n",
    "model.fit(X_train, y_train)\n",
    "print(model.predict([X_test.iloc[1]]))\n",
    "print(y_test.iloc[1])\n",
    "#Predicted the school to be non-profit\n",
    "#Prediction was correct because that school was a non-profit"
   ]
  },
  {
   "cell_type": "markdown",
   "metadata": {
    "collapsed": false
   },
   "source": [
    "12.What are the worst schools? Some of them are chains of schools so don't necessarily consider singular names but generalize to chains. Give a lot of justification for your analysis as everyone might have a different answer here. Insert these responses into your blog."
   ]
  },
  {
   "cell_type": "code",
   "execution_count": 12,
   "metadata": {
    "collapsed": false
   },
   "outputs": [
    {
     "data": {
      "text/html": [
       "<div>\n",
       "<style scoped>\n",
       "    .dataframe tbody tr th:only-of-type {\n",
       "        vertical-align: middle;\n",
       "    }\n",
       "\n",
       "    .dataframe tbody tr th {\n",
       "        vertical-align: top;\n",
       "    }\n",
       "\n",
       "    .dataframe thead th {\n",
       "        text-align: right;\n",
       "    }\n",
       "</style>\n",
       "<table border=\"1\" class=\"dataframe\">\n",
       "  <thead>\n",
       "    <tr style=\"text-align: right;\">\n",
       "      <th></th>\n",
       "      <th>size</th>\n",
       "      <th>retention</th>\n",
       "      <th>branches</th>\n",
       "      <th>online_only</th>\n",
       "      <th>under_investigation</th>\n",
       "      <th>most_common_degree</th>\n",
       "      <th>highest_degree</th>\n",
       "      <th>faculty_salary</th>\n",
       "      <th>instructional_expenditure_per_fte</th>\n",
       "      <th>tuition_revenue_per_fte</th>\n",
       "      <th>...</th>\n",
       "      <th>relig_y_n</th>\n",
       "      <th>accred_y_n</th>\n",
       "      <th>retention_listed_y_n</th>\n",
       "      <th>fac_salary_listed_y_n</th>\n",
       "      <th>7_yr_repayment_completion_y_n</th>\n",
       "      <th>5_year_declining_balance_y_n</th>\n",
       "      <th>for_profit</th>\n",
       "      <th>Score</th>\n",
       "      <th>Rank</th>\n",
       "      <th>name</th>\n",
       "    </tr>\n",
       "  </thead>\n",
       "  <tbody>\n",
       "    <tr>\n",
       "      <td>5723</td>\n",
       "      <td>-0.242226</td>\n",
       "      <td>-1.650960e+00</td>\n",
       "      <td>-0.302187</td>\n",
       "      <td>-0.075299</td>\n",
       "      <td>-0.101702</td>\n",
       "      <td>1.103434</td>\n",
       "      <td>0.562069</td>\n",
       "      <td>-0.836340</td>\n",
       "      <td>-0.292895</td>\n",
       "      <td>-0.103598</td>\n",
       "      <td>...</td>\n",
       "      <td>2.572123</td>\n",
       "      <td>0.115018</td>\n",
       "      <td>0.486049</td>\n",
       "      <td>0.789502</td>\n",
       "      <td>0.811207</td>\n",
       "      <td>0.536867</td>\n",
       "      <td>-0.870343</td>\n",
       "      <td>-5.047188</td>\n",
       "      <td>15.0</td>\n",
       "      <td>NaN</td>\n",
       "    </tr>\n",
       "    <tr>\n",
       "      <td>274</td>\n",
       "      <td>-0.440630</td>\n",
       "      <td>-1.309612e+00</td>\n",
       "      <td>-0.103451</td>\n",
       "      <td>-0.075299</td>\n",
       "      <td>-0.101702</td>\n",
       "      <td>0.136315</td>\n",
       "      <td>0.562069</td>\n",
       "      <td>-0.492225</td>\n",
       "      <td>-0.381771</td>\n",
       "      <td>0.868652</td>\n",
       "      <td>...</td>\n",
       "      <td>-0.388784</td>\n",
       "      <td>0.115018</td>\n",
       "      <td>0.486049</td>\n",
       "      <td>0.789502</td>\n",
       "      <td>0.811207</td>\n",
       "      <td>0.536867</td>\n",
       "      <td>-0.870343</td>\n",
       "      <td>-5.051759</td>\n",
       "      <td>13.5</td>\n",
       "      <td>Charles of Italy Beauty College</td>\n",
       "    </tr>\n",
       "    <tr>\n",
       "      <td>196</td>\n",
       "      <td>-0.368832</td>\n",
       "      <td>-1.309612e+00</td>\n",
       "      <td>-0.103451</td>\n",
       "      <td>-0.075299</td>\n",
       "      <td>-0.101702</td>\n",
       "      <td>0.136315</td>\n",
       "      <td>0.562069</td>\n",
       "      <td>-1.623760</td>\n",
       "      <td>-0.601311</td>\n",
       "      <td>0.449164</td>\n",
       "      <td>...</td>\n",
       "      <td>-0.388784</td>\n",
       "      <td>0.115018</td>\n",
       "      <td>0.486049</td>\n",
       "      <td>0.789502</td>\n",
       "      <td>0.811207</td>\n",
       "      <td>0.536867</td>\n",
       "      <td>-0.870343</td>\n",
       "      <td>-5.051759</td>\n",
       "      <td>13.5</td>\n",
       "      <td>Aveda Institute-Phoenix</td>\n",
       "    </tr>\n",
       "    <tr>\n",
       "      <td>4261</td>\n",
       "      <td>-0.465293</td>\n",
       "      <td>-4.523811e+00</td>\n",
       "      <td>-0.302187</td>\n",
       "      <td>-0.075299</td>\n",
       "      <td>-0.101702</td>\n",
       "      <td>-0.830804</td>\n",
       "      <td>-0.956915</td>\n",
       "      <td>-0.000157</td>\n",
       "      <td>-0.455991</td>\n",
       "      <td>-0.026428</td>\n",
       "      <td>...</td>\n",
       "      <td>-0.388784</td>\n",
       "      <td>0.115018</td>\n",
       "      <td>0.486049</td>\n",
       "      <td>-1.266621</td>\n",
       "      <td>0.811207</td>\n",
       "      <td>0.536867</td>\n",
       "      <td>1.148972</td>\n",
       "      <td>-5.138196</td>\n",
       "      <td>12.0</td>\n",
       "      <td>Nebraska Indian Community College</td>\n",
       "    </tr>\n",
       "    <tr>\n",
       "      <td>4738</td>\n",
       "      <td>-0.455245</td>\n",
       "      <td>-2.155590e+00</td>\n",
       "      <td>-0.302187</td>\n",
       "      <td>-0.075299</td>\n",
       "      <td>-0.101702</td>\n",
       "      <td>0.136315</td>\n",
       "      <td>-0.197423</td>\n",
       "      <td>-2.332493</td>\n",
       "      <td>-0.639772</td>\n",
       "      <td>-0.574649</td>\n",
       "      <td>...</td>\n",
       "      <td>-0.388784</td>\n",
       "      <td>0.115018</td>\n",
       "      <td>0.486049</td>\n",
       "      <td>0.789502</td>\n",
       "      <td>0.811207</td>\n",
       "      <td>0.536867</td>\n",
       "      <td>1.148972</td>\n",
       "      <td>-5.210640</td>\n",
       "      <td>11.0</td>\n",
       "      <td>Bryant &amp; Stratton College-Albany</td>\n",
       "    </tr>\n",
       "    <tr>\n",
       "      <td>3278</td>\n",
       "      <td>-0.455062</td>\n",
       "      <td>-3.011209e+00</td>\n",
       "      <td>-0.103451</td>\n",
       "      <td>-0.075299</td>\n",
       "      <td>-0.101702</td>\n",
       "      <td>0.136315</td>\n",
       "      <td>-0.197423</td>\n",
       "      <td>-1.889189</td>\n",
       "      <td>-0.488007</td>\n",
       "      <td>-0.058087</td>\n",
       "      <td>...</td>\n",
       "      <td>-0.388784</td>\n",
       "      <td>0.115018</td>\n",
       "      <td>0.486049</td>\n",
       "      <td>0.789502</td>\n",
       "      <td>0.811207</td>\n",
       "      <td>0.536867</td>\n",
       "      <td>1.148972</td>\n",
       "      <td>-5.463825</td>\n",
       "      <td>10.0</td>\n",
       "      <td>Maryland Beauty Academy</td>\n",
       "    </tr>\n",
       "    <tr>\n",
       "      <td>5475</td>\n",
       "      <td>-0.451043</td>\n",
       "      <td>-2.916712e+00</td>\n",
       "      <td>-0.103451</td>\n",
       "      <td>-0.075299</td>\n",
       "      <td>-0.101702</td>\n",
       "      <td>-0.830804</td>\n",
       "      <td>-0.956915</td>\n",
       "      <td>-0.000157</td>\n",
       "      <td>0.085272</td>\n",
       "      <td>-0.177509</td>\n",
       "      <td>...</td>\n",
       "      <td>-0.388784</td>\n",
       "      <td>0.115018</td>\n",
       "      <td>0.486049</td>\n",
       "      <td>-1.266621</td>\n",
       "      <td>0.811207</td>\n",
       "      <td>0.536867</td>\n",
       "      <td>1.148972</td>\n",
       "      <td>-5.550554</td>\n",
       "      <td>9.0</td>\n",
       "      <td>University of Science and Arts of Oklahoma</td>\n",
       "    </tr>\n",
       "    <tr>\n",
       "      <td>2524</td>\n",
       "      <td>-0.407562</td>\n",
       "      <td>-3.238132e+00</td>\n",
       "      <td>2.877578</td>\n",
       "      <td>-0.075299</td>\n",
       "      <td>-0.101702</td>\n",
       "      <td>-0.830804</td>\n",
       "      <td>-0.197423</td>\n",
       "      <td>-1.812719</td>\n",
       "      <td>-0.482913</td>\n",
       "      <td>-0.217083</td>\n",
       "      <td>...</td>\n",
       "      <td>-0.388784</td>\n",
       "      <td>0.115018</td>\n",
       "      <td>0.486049</td>\n",
       "      <td>0.789502</td>\n",
       "      <td>0.811207</td>\n",
       "      <td>0.536867</td>\n",
       "      <td>1.148972</td>\n",
       "      <td>-5.597350</td>\n",
       "      <td>8.0</td>\n",
       "      <td>Ivy Tech Community College-South Central</td>\n",
       "    </tr>\n",
       "    <tr>\n",
       "      <td>4055</td>\n",
       "      <td>-0.457985</td>\n",
       "      <td>-3.605193e+00</td>\n",
       "      <td>-0.202819</td>\n",
       "      <td>-0.075299</td>\n",
       "      <td>-0.101702</td>\n",
       "      <td>-0.830804</td>\n",
       "      <td>-0.956915</td>\n",
       "      <td>-0.000157</td>\n",
       "      <td>0.147226</td>\n",
       "      <td>0.528894</td>\n",
       "      <td>...</td>\n",
       "      <td>-0.388784</td>\n",
       "      <td>0.115018</td>\n",
       "      <td>0.486049</td>\n",
       "      <td>-1.266621</td>\n",
       "      <td>0.811207</td>\n",
       "      <td>0.536867</td>\n",
       "      <td>-0.870343</td>\n",
       "      <td>-5.731443</td>\n",
       "      <td>7.0</td>\n",
       "      <td>Miller-Motte College-Raleigh</td>\n",
       "    </tr>\n",
       "    <tr>\n",
       "      <td>1086</td>\n",
       "      <td>-0.434601</td>\n",
       "      <td>7.850651e-15</td>\n",
       "      <td>-0.302187</td>\n",
       "      <td>-0.075299</td>\n",
       "      <td>-0.101702</td>\n",
       "      <td>1.103434</td>\n",
       "      <td>0.562069</td>\n",
       "      <td>0.150567</td>\n",
       "      <td>0.041094</td>\n",
       "      <td>0.465459</td>\n",
       "      <td>...</td>\n",
       "      <td>-0.388784</td>\n",
       "      <td>0.115018</td>\n",
       "      <td>-2.057406</td>\n",
       "      <td>0.789502</td>\n",
       "      <td>0.811207</td>\n",
       "      <td>0.536867</td>\n",
       "      <td>1.148972</td>\n",
       "      <td>-5.940042</td>\n",
       "      <td>6.0</td>\n",
       "      <td>Thuy Princess Beauty College</td>\n",
       "    </tr>\n",
       "    <tr>\n",
       "      <td>5737</td>\n",
       "      <td>-0.379245</td>\n",
       "      <td>-2.580507e+00</td>\n",
       "      <td>-0.103451</td>\n",
       "      <td>-0.075299</td>\n",
       "      <td>-0.101702</td>\n",
       "      <td>0.136315</td>\n",
       "      <td>-0.197423</td>\n",
       "      <td>-1.804407</td>\n",
       "      <td>-0.289880</td>\n",
       "      <td>-0.363043</td>\n",
       "      <td>...</td>\n",
       "      <td>-0.388784</td>\n",
       "      <td>0.115018</td>\n",
       "      <td>0.486049</td>\n",
       "      <td>0.789502</td>\n",
       "      <td>0.811207</td>\n",
       "      <td>0.536867</td>\n",
       "      <td>1.148972</td>\n",
       "      <td>-5.968019</td>\n",
       "      <td>5.0</td>\n",
       "      <td>PITC Institute</td>\n",
       "    </tr>\n",
       "    <tr>\n",
       "      <td>4538</td>\n",
       "      <td>-0.464014</td>\n",
       "      <td>-2.687218e+00</td>\n",
       "      <td>-0.103451</td>\n",
       "      <td>-0.075299</td>\n",
       "      <td>-0.101702</td>\n",
       "      <td>0.136315</td>\n",
       "      <td>-0.197423</td>\n",
       "      <td>-1.602703</td>\n",
       "      <td>0.146394</td>\n",
       "      <td>-0.343838</td>\n",
       "      <td>...</td>\n",
       "      <td>-0.388784</td>\n",
       "      <td>0.115018</td>\n",
       "      <td>0.486049</td>\n",
       "      <td>0.789502</td>\n",
       "      <td>0.811207</td>\n",
       "      <td>0.536867</td>\n",
       "      <td>1.148972</td>\n",
       "      <td>-6.074731</td>\n",
       "      <td>4.0</td>\n",
       "      <td>Eastern New Mexico University-Main Campus</td>\n",
       "    </tr>\n",
       "    <tr>\n",
       "      <td>2065</td>\n",
       "      <td>-0.430947</td>\n",
       "      <td>-1.602104e+00</td>\n",
       "      <td>-0.004084</td>\n",
       "      <td>-0.075299</td>\n",
       "      <td>-0.101702</td>\n",
       "      <td>1.103434</td>\n",
       "      <td>0.562069</td>\n",
       "      <td>-0.622446</td>\n",
       "      <td>0.532564</td>\n",
       "      <td>1.460988</td>\n",
       "      <td>...</td>\n",
       "      <td>-0.388784</td>\n",
       "      <td>0.115018</td>\n",
       "      <td>0.486049</td>\n",
       "      <td>0.789502</td>\n",
       "      <td>0.811207</td>\n",
       "      <td>0.536867</td>\n",
       "      <td>1.148972</td>\n",
       "      <td>-6.831679</td>\n",
       "      <td>3.0</td>\n",
       "      <td>Total Look School of Cosmetology &amp; Massage The...</td>\n",
       "    </tr>\n",
       "    <tr>\n",
       "      <td>1678</td>\n",
       "      <td>-0.390389</td>\n",
       "      <td>-3.170634e+00</td>\n",
       "      <td>-0.302187</td>\n",
       "      <td>-0.075299</td>\n",
       "      <td>-0.101702</td>\n",
       "      <td>1.103434</td>\n",
       "      <td>1.321562</td>\n",
       "      <td>-1.358331</td>\n",
       "      <td>-0.544243</td>\n",
       "      <td>-0.427526</td>\n",
       "      <td>...</td>\n",
       "      <td>2.572123</td>\n",
       "      <td>0.115018</td>\n",
       "      <td>0.486049</td>\n",
       "      <td>0.789502</td>\n",
       "      <td>0.811207</td>\n",
       "      <td>0.536867</td>\n",
       "      <td>-0.870343</td>\n",
       "      <td>-7.156252</td>\n",
       "      <td>2.0</td>\n",
       "      <td>South University-West Palm Beach</td>\n",
       "    </tr>\n",
       "    <tr>\n",
       "      <td>1889</td>\n",
       "      <td>-0.450860</td>\n",
       "      <td>-3.720262e+00</td>\n",
       "      <td>-0.103451</td>\n",
       "      <td>-0.075299</td>\n",
       "      <td>-0.101702</td>\n",
       "      <td>0.136315</td>\n",
       "      <td>-0.197423</td>\n",
       "      <td>-0.744354</td>\n",
       "      <td>-0.332083</td>\n",
       "      <td>0.849796</td>\n",
       "      <td>...</td>\n",
       "      <td>-0.388784</td>\n",
       "      <td>0.115018</td>\n",
       "      <td>0.486049</td>\n",
       "      <td>0.789502</td>\n",
       "      <td>0.811207</td>\n",
       "      <td>0.536867</td>\n",
       "      <td>-0.870343</td>\n",
       "      <td>-7.462408</td>\n",
       "      <td>1.0</td>\n",
       "      <td>Strayer University-Cobb Campus</td>\n",
       "    </tr>\n",
       "  </tbody>\n",
       "</table>\n",
       "<p>15 rows × 36 columns</p>\n",
       "</div>"
      ],
      "text/plain": [
       "          size     retention  branches  online_only  under_investigation  \\\n",
       "5723 -0.242226 -1.650960e+00 -0.302187    -0.075299            -0.101702   \n",
       "274  -0.440630 -1.309612e+00 -0.103451    -0.075299            -0.101702   \n",
       "196  -0.368832 -1.309612e+00 -0.103451    -0.075299            -0.101702   \n",
       "4261 -0.465293 -4.523811e+00 -0.302187    -0.075299            -0.101702   \n",
       "4738 -0.455245 -2.155590e+00 -0.302187    -0.075299            -0.101702   \n",
       "3278 -0.455062 -3.011209e+00 -0.103451    -0.075299            -0.101702   \n",
       "5475 -0.451043 -2.916712e+00 -0.103451    -0.075299            -0.101702   \n",
       "2524 -0.407562 -3.238132e+00  2.877578    -0.075299            -0.101702   \n",
       "4055 -0.457985 -3.605193e+00 -0.202819    -0.075299            -0.101702   \n",
       "1086 -0.434601  7.850651e-15 -0.302187    -0.075299            -0.101702   \n",
       "5737 -0.379245 -2.580507e+00 -0.103451    -0.075299            -0.101702   \n",
       "4538 -0.464014 -2.687218e+00 -0.103451    -0.075299            -0.101702   \n",
       "2065 -0.430947 -1.602104e+00 -0.004084    -0.075299            -0.101702   \n",
       "1678 -0.390389 -3.170634e+00 -0.302187    -0.075299            -0.101702   \n",
       "1889 -0.450860 -3.720262e+00 -0.103451    -0.075299            -0.101702   \n",
       "\n",
       "      most_common_degree  highest_degree  faculty_salary  \\\n",
       "5723            1.103434        0.562069       -0.836340   \n",
       "274             0.136315        0.562069       -0.492225   \n",
       "196             0.136315        0.562069       -1.623760   \n",
       "4261           -0.830804       -0.956915       -0.000157   \n",
       "4738            0.136315       -0.197423       -2.332493   \n",
       "3278            0.136315       -0.197423       -1.889189   \n",
       "5475           -0.830804       -0.956915       -0.000157   \n",
       "2524           -0.830804       -0.197423       -1.812719   \n",
       "4055           -0.830804       -0.956915       -0.000157   \n",
       "1086            1.103434        0.562069        0.150567   \n",
       "5737            0.136315       -0.197423       -1.804407   \n",
       "4538            0.136315       -0.197423       -1.602703   \n",
       "2065            1.103434        0.562069       -0.622446   \n",
       "1678            1.103434        1.321562       -1.358331   \n",
       "1889            0.136315       -0.197423       -0.744354   \n",
       "\n",
       "      instructional_expenditure_per_fte  tuition_revenue_per_fte  ...  \\\n",
       "5723                          -0.292895                -0.103598  ...   \n",
       "274                           -0.381771                 0.868652  ...   \n",
       "196                           -0.601311                 0.449164  ...   \n",
       "4261                          -0.455991                -0.026428  ...   \n",
       "4738                          -0.639772                -0.574649  ...   \n",
       "3278                          -0.488007                -0.058087  ...   \n",
       "5475                           0.085272                -0.177509  ...   \n",
       "2524                          -0.482913                -0.217083  ...   \n",
       "4055                           0.147226                 0.528894  ...   \n",
       "1086                           0.041094                 0.465459  ...   \n",
       "5737                          -0.289880                -0.363043  ...   \n",
       "4538                           0.146394                -0.343838  ...   \n",
       "2065                           0.532564                 1.460988  ...   \n",
       "1678                          -0.544243                -0.427526  ...   \n",
       "1889                          -0.332083                 0.849796  ...   \n",
       "\n",
       "      relig_y_n  accred_y_n  retention_listed_y_n  fac_salary_listed_y_n  \\\n",
       "5723   2.572123    0.115018              0.486049               0.789502   \n",
       "274   -0.388784    0.115018              0.486049               0.789502   \n",
       "196   -0.388784    0.115018              0.486049               0.789502   \n",
       "4261  -0.388784    0.115018              0.486049              -1.266621   \n",
       "4738  -0.388784    0.115018              0.486049               0.789502   \n",
       "3278  -0.388784    0.115018              0.486049               0.789502   \n",
       "5475  -0.388784    0.115018              0.486049              -1.266621   \n",
       "2524  -0.388784    0.115018              0.486049               0.789502   \n",
       "4055  -0.388784    0.115018              0.486049              -1.266621   \n",
       "1086  -0.388784    0.115018             -2.057406               0.789502   \n",
       "5737  -0.388784    0.115018              0.486049               0.789502   \n",
       "4538  -0.388784    0.115018              0.486049               0.789502   \n",
       "2065  -0.388784    0.115018              0.486049               0.789502   \n",
       "1678   2.572123    0.115018              0.486049               0.789502   \n",
       "1889  -0.388784    0.115018              0.486049               0.789502   \n",
       "\n",
       "      7_yr_repayment_completion_y_n  5_year_declining_balance_y_n  for_profit  \\\n",
       "5723                       0.811207                      0.536867   -0.870343   \n",
       "274                        0.811207                      0.536867   -0.870343   \n",
       "196                        0.811207                      0.536867   -0.870343   \n",
       "4261                       0.811207                      0.536867    1.148972   \n",
       "4738                       0.811207                      0.536867    1.148972   \n",
       "3278                       0.811207                      0.536867    1.148972   \n",
       "5475                       0.811207                      0.536867    1.148972   \n",
       "2524                       0.811207                      0.536867    1.148972   \n",
       "4055                       0.811207                      0.536867   -0.870343   \n",
       "1086                       0.811207                      0.536867    1.148972   \n",
       "5737                       0.811207                      0.536867    1.148972   \n",
       "4538                       0.811207                      0.536867    1.148972   \n",
       "2065                       0.811207                      0.536867    1.148972   \n",
       "1678                       0.811207                      0.536867   -0.870343   \n",
       "1889                       0.811207                      0.536867   -0.870343   \n",
       "\n",
       "         Score  Rank                                               name  \n",
       "5723 -5.047188  15.0                                                NaN  \n",
       "274  -5.051759  13.5                    Charles of Italy Beauty College  \n",
       "196  -5.051759  13.5                            Aveda Institute-Phoenix  \n",
       "4261 -5.138196  12.0                  Nebraska Indian Community College  \n",
       "4738 -5.210640  11.0                   Bryant & Stratton College-Albany  \n",
       "3278 -5.463825  10.0                            Maryland Beauty Academy  \n",
       "5475 -5.550554   9.0         University of Science and Arts of Oklahoma  \n",
       "2524 -5.597350   8.0           Ivy Tech Community College-South Central  \n",
       "4055 -5.731443   7.0                       Miller-Motte College-Raleigh  \n",
       "1086 -5.940042   6.0                       Thuy Princess Beauty College  \n",
       "5737 -5.968019   5.0                                     PITC Institute  \n",
       "4538 -6.074731   4.0          Eastern New Mexico University-Main Campus  \n",
       "2065 -6.831679   3.0  Total Look School of Cosmetology & Massage The...  \n",
       "1678 -7.156252   2.0                   South University-West Palm Beach  \n",
       "1889 -7.462408   1.0                     Strayer University-Cobb Campus  \n",
       "\n",
       "[15 rows x 36 columns]"
      ]
     },
     "execution_count": 12,
     "metadata": {
     },
     "output_type": "execute_result"
    }
   ],
   "source": [
    "X = df[['size','retention','branches', 'online_only', 'under_investigation', 'most_common_degree', 'highest_degree',\n",
    "       'faculty_salary', 'instructional_expenditure_per_fte',\n",
    "       'tuition_revenue_per_fte', 'part_time_share',\n",
    "       'age_entry', 'percent_dependent', 'first_generation', 'percent_black',\n",
    "        'avg_family_income','ind_low_income', 'dep_low_income', 'loan_principal',\n",
    "       'federal_loan_rate', 'students_with_any_loans',\n",
    "       'pell_grant_debt', 'percent_pell_grant',\n",
    "       'fafsa_sent', '7_yr_repayment_completion', '5_year_declining_balance',\n",
    "       'relig_y_n', 'accred_y_n', 'retention_listed_y_n',\n",
    "       'fac_salary_listed_y_n', '7_yr_repayment_completion_y_n',\n",
    "       '5_year_declining_balance_y_n', 'for_profit']]\n",
    "X_scaler = StandardScaler()\n",
    "X_scaled = X_scaler.fit_transform(X)\n",
    "X_scaled = pd.DataFrame(X_scaled)\n",
    "X_scaled.head()\n",
    "X_scaled.columns = X.columns\n",
    "\n",
    "Score = X_scaled.assign(Score = lambda x:\n",
    "                X_scaled['retention'] + X_scaled['7_yr_repayment_completion'] - X_scaled['loan_principal']\n",
    "                        )\n",
    "Score[\"Rank\"] = Score[\"Score\"].rank(ascending = True)\n",
    "names = df[['name']]\n",
    "Score = Score.join(names)\n",
    "Score = Score.sort_values(by = 'Rank', ascending = False)\n",
    "Score = Score.assign(Rank = lambda x: Score['Rank'])\n",
    "Score.tail(15)\n",
    "\n",
    "\n",
    "\n",
    "#Rank = X.assign(Rank = lambda x:\n",
    "               # 10*X['retention'] + 5*X['7_yr_repayment_completion'] - 7*(X['loan_principal']) + #4*X['under_investigation'])"
   ]
  },
  {
   "cell_type": "markdown",
   "metadata": {
    "collapsed": false
   },
   "source": [
    "13.If you were a governmental organization overseeing accreditation, what factors would be most important to you in making sure that the college was non-predatory? Give a lot of detail here as well in your blog."
   ]
  },
  {
   "cell_type": "markdown",
   "metadata": {
    "collapsed": false
   },
   "source": [
    "See blog post."
   ]
  },
  {
   "cell_type": "markdown",
   "metadata": {
    "collapsed": false
   },
   "source": [
    "14.Read several articles on college predatory practices and cite and incorporate them into your blog discussion. Remember to link to them clearly by using the \n",
    "```[here](http://....)``` syntax."
   ]
  },
  {
   "cell_type": "markdown",
   "metadata": {
    "collapsed": false
   },
   "source": [
    "See blog post."
   ]
  },
  {
   "cell_type": "code",
   "execution_count": 0,
   "metadata": {
    "collapsed": false
   },
   "outputs": [
   ],
   "source": [
   ]
  }
 ],
 "metadata": {
  "kernelspec": {
   "display_name": "Python 3 (system-wide)",
   "language": "python",
   "metadata": {
    "cocalc": {
     "description": "Python 3 programming language",
     "priority": 100,
     "url": "https://www.python.org/"
    }
   },
   "name": "python3"
  },
  "language_info": {
   "codemirror_mode": {
    "name": "ipython",
    "version": 3
   },
   "file_extension": ".py",
   "mimetype": "text/x-python",
   "name": "python",
   "nbconvert_exporter": "python",
   "pygments_lexer": "ipython3",
   "version": "3.6.8"
  }
 },
 "nbformat": 4,
 "nbformat_minor": 0
}